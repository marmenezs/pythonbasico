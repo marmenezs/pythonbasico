{
 "cells": [
  {
   "cell_type": "code",
   "execution_count": null,
   "metadata": {},
   "outputs": [],
   "source": [
    "#Práticas"
   ]
  },
  {
   "cell_type": "code",
   "execution_count": null,
   "metadata": {},
   "outputs": [],
   "source": [
    "#criando função para determinar a amplitude dos valores de uma lista\n",
    "lista = [10,23,45,67,89,150]\n",
    "def amplitude(lista):\n",
    "    return (max(lista)-min(lista))\n",
    "print(\"A amplitude dos valores definidos na lista é: \", amplitude(lista))"
   ]
  },
  {
   "cell_type": "code",
   "execution_count": null,
   "metadata": {},
   "outputs": [],
   "source": [
    "#criando função que receba um vetor string e imprima na vertical\n",
    "def imprimir(texto):\n",
    "    for n in range(0,len(texto)):\n",
    "        print(texto[n])\n",
    "imprimir(\"hello\")\n"
   ]
  },
  {
   "cell_type": "code",
   "execution_count": null,
   "metadata": {},
   "outputs": [],
   "source": [
    "#Criando um programa que leia o peso de uma carga em números inteiros. \n",
    "#Se o peso for até 10 kg, o valor será de R$ 50,00. \n",
    "#Entre 11 e 20 kg, o valor será de R$ 80,00. \n",
    "#Se for maior que 20 kg, o transporte não é aceito.\n",
    "\n",
    "print(\"Digite o peso da carga: \")\n",
    "n=input()\n",
    "n=int(n)\n",
    "\n",
    "if n <= 10:\n",
    "    print(\"O valor é R$50,00.\")\n",
    "elif n > 10 and n <=20:\n",
    "    print (\"O valor é R$80,00.\")\n",
    "else:\n",
    "    print(\"Transporte não disponível.\")"
   ]
  },
  {
   "cell_type": "code",
   "execution_count": null,
   "metadata": {},
   "outputs": [],
   "source": []
  },
  {
   "cell_type": "code",
   "execution_count": null,
   "metadata": {},
   "outputs": [],
   "source": []
  }
 ],
 "metadata": {
  "kernelspec": {
   "display_name": "Python 3",
   "language": "python",
   "name": "python3"
  },
  "language_info": {
   "codemirror_mode": {
    "name": "ipython",
    "version": 3
   },
   "file_extension": ".py",
   "mimetype": "text/x-python",
   "name": "python",
   "nbconvert_exporter": "python",
   "pygments_lexer": "ipython3",
   "version": "3.7.3"
  }
 },
 "nbformat": 4,
 "nbformat_minor": 2
}
