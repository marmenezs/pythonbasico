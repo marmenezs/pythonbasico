{
 "cells": [
  {
   "cell_type": "code",
   "execution_count": 1,
   "metadata": {},
   "outputs": [],
   "source": [
    "#Numpy"
   ]
  },
  {
   "cell_type": "code",
   "execution_count": 2,
   "metadata": {},
   "outputs": [],
   "source": [
    "import numpy as np"
   ]
  },
  {
   "cell_type": "code",
   "execution_count": 3,
   "metadata": {},
   "outputs": [
    {
     "name": "stdout",
     "output_type": "stream",
     "text": [
      "[1 2 3 4 5]\n",
      "<class 'numpy.ndarray'>\n"
     ]
    }
   ],
   "source": [
    "#criando uma matriz unidimensional\n",
    "matriz = np.array([1,2,3,4,5])\n",
    "print(matriz)\n",
    "print(type(matriz))"
   ]
  },
  {
   "cell_type": "code",
   "execution_count": 4,
   "metadata": {},
   "outputs": [
    {
     "name": "stdout",
     "output_type": "stream",
     "text": [
      "[ 1.2 13.5 76.8  3.   5.9]\n",
      "<class 'numpy.ndarray'>\n",
      "[ 1 13 76  3  5]\n",
      "<class 'numpy.ndarray'>\n"
     ]
    }
   ],
   "source": [
    "#criando matriz com elementos do tipo float e do tipo int\n",
    "matrizfloat = np.array([1.2, 13.5, 76.8, 3, 5.9], dtype = np.float64)\n",
    "print(matrizfloat)\n",
    "print(type(matrizfloat))\n",
    "matrizint = np.array([1.2, 13.5, 76.8, 3, 5.9], dtype = np.int32)\n",
    "print(matrizint)\n",
    "print(type(matrizint))"
   ]
  },
  {
   "cell_type": "code",
   "execution_count": 6,
   "metadata": {},
   "outputs": [
    {
     "name": "stdout",
     "output_type": "stream",
     "text": [
      "[ 1.2 13.5 76.8  3.   5.9]\n",
      "[ 1 13 76  3  5]\n"
     ]
    }
   ],
   "source": [
    "#mudando o tipo dos elementos da matriz\n",
    "matriz1 = np.array([1.2, 13.5, 76.8, 3, 5.9])\n",
    "print(matriz1)\n",
    "\n",
    "matriz1int = matriz1.astype(np.int32)\n",
    "print(matriz1int)"
   ]
  },
  {
   "cell_type": "code",
   "execution_count": 8,
   "metadata": {},
   "outputs": [
    {
     "name": "stdout",
     "output_type": "stream",
     "text": [
      "[[ 34  56   2]\n",
      " [ 54   7  90]\n",
      " [  1  34 645]]\n"
     ]
    }
   ],
   "source": [
    "#criando uma matriz bidimensional\n",
    "matriz2 = np.array([[34,56,2], [54,7,90], [1,34,645]])\n",
    "print(matriz2)"
   ]
  },
  {
   "cell_type": "code",
   "execution_count": 10,
   "metadata": {},
   "outputs": [
    {
     "name": "stdout",
     "output_type": "stream",
     "text": [
      "[[0 0]\n",
      " [0 0]\n",
      " [0 0]]\n"
     ]
    }
   ],
   "source": [
    "#criando arrays vazias tipificadas (vazio = que não são inicializados)\n",
    "vazio = np.empty([3,2], dtype = int)\n",
    "print(vazio)"
   ]
  },
  {
   "cell_type": "code",
   "execution_count": 11,
   "metadata": {},
   "outputs": [
    {
     "name": "stdout",
     "output_type": "stream",
     "text": [
      "[[0. 0. 0.]\n",
      " [0. 0. 0.]\n",
      " [0. 0. 0.]\n",
      " [0. 0. 0.]]\n"
     ]
    }
   ],
   "source": [
    "#criando matriz 4x3 com valores zero\n",
    "zeros = np.zeros([4,3])\n",
    "print(zeros)"
   ]
  },
  {
   "cell_type": "code",
   "execution_count": 12,
   "metadata": {},
   "outputs": [
    {
     "name": "stdout",
     "output_type": "stream",
     "text": [
      "[[1. 1. 1.]\n",
      " [1. 1. 1.]\n",
      " [1. 1. 1.]\n",
      " [1. 1. 1.]]\n"
     ]
    }
   ],
   "source": [
    "#criando matriz 4x3 com valores iguais a 1\n",
    "um = np.ones([4,3])\n",
    "print(um)"
   ]
  },
  {
   "cell_type": "code",
   "execution_count": 13,
   "metadata": {},
   "outputs": [
    {
     "name": "stdout",
     "output_type": "stream",
     "text": [
      "[[1. 0. 0. 0. 0.]\n",
      " [0. 1. 0. 0. 0.]\n",
      " [0. 0. 1. 0. 0.]\n",
      " [0. 0. 0. 1. 0.]\n",
      " [0. 0. 0. 0. 1.]]\n"
     ]
    }
   ],
   "source": [
    "#criando matriz identidade\n",
    "identidade = np.eye(5)\n",
    "print(identidade)"
   ]
  },
  {
   "cell_type": "code",
   "execution_count": 14,
   "metadata": {},
   "outputs": [
    {
     "name": "stdout",
     "output_type": "stream",
     "text": [
      "[0.61383408 0.64567001 0.22528196 0.85451874 0.17893738]\n"
     ]
    }
   ],
   "source": [
    "#criando valores aleatórios entre zero e um\n",
    "aleatorio = np.random.random(5)\n",
    "print(aleatorio)"
   ]
  },
  {
   "cell_type": "code",
   "execution_count": 16,
   "metadata": {},
   "outputs": [
    {
     "name": "stdout",
     "output_type": "stream",
     "text": [
      "[-1.97086095e-01 -2.77926347e+00  6.41551929e-01 -4.71050722e-04\n",
      " -3.21045445e-01]\n"
     ]
    }
   ],
   "source": [
    "#criando valores aleatorios de distribuição normal\n",
    "aleatorio2 = np.random.randn(5)\n",
    "print(aleatorio2)"
   ]
  },
  {
   "cell_type": "code",
   "execution_count": 18,
   "metadata": {},
   "outputs": [
    {
     "name": "stdout",
     "output_type": "stream",
     "text": [
      "[[0.608304   0.25864933 0.60577437 0.43850622]\n",
      " [0.20916861 0.96674579 0.03535855 0.737013  ]\n",
      " [0.99126639 0.90889382 0.92367253 0.23419381]]\n"
     ]
    }
   ],
   "source": [
    "#criando matriz 3x4 com valores aleatorios\n",
    "aleatorio3 = np.random.random((3,4))\n",
    "print(aleatorio3)"
   ]
  },
  {
   "cell_type": "code",
   "execution_count": 25,
   "metadata": {},
   "outputs": [
    {
     "name": "stdout",
     "output_type": "stream",
     "text": [
      "[ 1  2  3  4  5  6  7  8  9 45]\n"
     ]
    }
   ],
   "source": [
    "#removendo repetições de um conjunto de dados\n",
    "rep = np.array([1,2,2,3,4,5,5,5,5,6,7,8,8,9,45])\n",
    "rep = np.unique(rep)\n",
    "print(rep)"
   ]
  },
  {
   "cell_type": "code",
   "execution_count": 27,
   "metadata": {},
   "outputs": [
    {
     "name": "stdout",
     "output_type": "stream",
     "text": [
      "[[ 34  56   2]\n",
      " [ 54   7  90]\n",
      " [  1  34 645]]\n",
      "56\n"
     ]
    }
   ],
   "source": [
    "#mostrando elemento específico de uma matriz\n",
    "print(matriz2)\n",
    "print(matriz2[0][1])"
   ]
  },
  {
   "cell_type": "code",
   "execution_count": 28,
   "metadata": {},
   "outputs": [
    {
     "name": "stdout",
     "output_type": "stream",
     "text": [
      "(3, 3)\n"
     ]
    }
   ],
   "source": [
    "#mostrando o tamanho da dimensão da matriz\n",
    "print(matriz2.shape)"
   ]
  },
  {
   "cell_type": "code",
   "execution_count": 36,
   "metadata": {},
   "outputs": [
    {
     "name": "stdout",
     "output_type": "stream",
     "text": [
      "[[ 34  56   2]\n",
      " [ 54   7  90]\n",
      " [  1  34 645]]\n",
      "645\n",
      "1\n",
      "923\n",
      "102.55555555555556\n",
      "193.7593645685924\n",
      "[[ 5.83095189  7.48331477  1.41421356]\n",
      " [ 7.34846923  2.64575131  9.48683298]\n",
      " [ 1.          5.83095189 25.3968502 ]]\n",
      "[[5.83461743e+014 2.09165950e+024 7.38905610e+000]\n",
      " [2.83075330e+023 1.09663316e+003 1.22040329e+039]\n",
      " [2.71828183e+000 5.83461743e+014 1.31807714e+280]]\n"
     ]
    }
   ],
   "source": [
    "#usando algumas funções matemáticas\n",
    "print(matriz2)\n",
    "print(\"-------------\")\n",
    "#mostrando o maior valor da matriz\n",
    "print(matriz2.max())\n",
    "#mostrando o menor valor da matriz\n",
    "print(matriz2.min())\n",
    "#mostrando a soma dos valores da matriz\n",
    "print(matriz2.sum())\n",
    "#mostrando a média dos valores da matriz\n",
    "print(matriz2.mean())\n",
    "#mostrando o desvio padrão da matriz\n",
    "print(matriz2.std())\n",
    "#mostrando o valor da raiz quadrada de todos os elementos\n",
    "print(np.sqrt(matriz2))\n",
    "#mostrando o valor do exponencial de todos os elementos\n",
    "print(np.exp(matriz2))"
   ]
  },
  {
   "cell_type": "code",
   "execution_count": 45,
   "metadata": {},
   "outputs": [
    {
     "name": "stdout",
     "output_type": "stream",
     "text": [
      "[1 2 3 4 5]\n",
      "----------------\n",
      "2\n",
      "[1 2]\n",
      "[1 2 3 4 5]\n",
      "[4 5]\n"
     ]
    }
   ],
   "source": [
    "#extraindo elementos de uma matriz\n",
    "print(matriz)\n",
    "print(\"----------------\")\n",
    "#mostrando o elemento da posição 2\n",
    "print(matriz[1])\n",
    "#mostrando o array criado a partir da primeira posição até 2\n",
    "print(matriz[0:2])\n",
    "#mostrando o array criado a partir da primeira posição até o final\n",
    "print(matriz[0:])\n",
    "#mostrando o array criado a partir da penúltima posição até o final\n",
    "print(matriz[-2:])"
   ]
  },
  {
   "cell_type": "code",
   "execution_count": 50,
   "metadata": {},
   "outputs": [
    {
     "name": "stdout",
     "output_type": "stream",
     "text": [
      "[[ 34  56   2]\n",
      " [ 54   7  90]\n",
      " [  1  34 645]]\n",
      "-------------\n",
      "[34 56  2]\n",
      "[56  7 34]\n"
     ]
    }
   ],
   "source": [
    "#extraindo linhas e colunas de uma matriz\n",
    "print(matriz2)\n",
    "print(\"-------------\")\n",
    "#extraindo primeira linha\n",
    "l1 = matriz2[0,:]\n",
    "print(l1)\n",
    "#extraindo segunda coluna\n",
    "c2 = matriz2[:,1]\n",
    "print(c2)"
   ]
  },
  {
   "cell_type": "code",
   "execution_count": 59,
   "metadata": {},
   "outputs": [
    {
     "name": "stdout",
     "output_type": "stream",
     "text": [
      "[[23  4]\n",
      " [ 3  4]]\n",
      "[[ 3 45]\n",
      " [32  9]]\n",
      "-------------\n",
      "[[26 49]\n",
      " [35 13]]\n",
      "[[ 69 180]\n",
      " [ 96  36]]\n"
     ]
    }
   ],
   "source": [
    "#calculando as operações de adição e multiplicação de matrizes\n",
    "m1 = np.array([[23,4], [3,4]])\n",
    "m2 = np.array([[3,45], [32,9]])\n",
    "print(m1)\n",
    "print(m2)\n",
    "print(\"-------------\")\n",
    "#somando\n",
    "soma = m1 + m2\n",
    "print(soma)\n",
    "#multiplicando\n",
    "mult = m1*m2\n",
    "print(mult)"
   ]
  },
  {
   "cell_type": "code",
   "execution_count": 60,
   "metadata": {},
   "outputs": [
    {
     "name": "stdout",
     "output_type": "stream",
     "text": [
      "[[ 34  56   2]\n",
      " [ 54   7  90]\n",
      " [  1  34 645]]\n",
      "-------------\n",
      "[[ 34  54   1]\n",
      " [ 56   7  34]\n",
      " [  2  90 645]]\n"
     ]
    }
   ],
   "source": [
    "#transpondo uma matriz\n",
    "print(matriz2)\n",
    "print(\"-------------\")\n",
    "transposta = matriz2.T\n",
    "print(transposta)"
   ]
  },
  {
   "cell_type": "code",
   "execution_count": 64,
   "metadata": {},
   "outputs": [
    {
     "name": "stdout",
     "output_type": "stream",
     "text": [
      "[[-0.23667061 -0.88214523 -0.26842276  1.32167413]\n",
      " [-1.43798149 -1.73956555  0.13758465  0.80507052]\n",
      " [ 0.9546119  -1.15545593 -0.00800077  0.06732188]]\n",
      "-------------\n",
      "[[False False False  True]\n",
      " [False False  True  True]\n",
      " [ True False False  True]]\n",
      "-------------\n",
      "[[-1 -1 -1  1]\n",
      " [-1 -1  1  1]\n",
      " [ 1 -1 -1  1]]\n"
     ]
    }
   ],
   "source": [
    "#usando função where\n",
    "#criando matriz com números aleatórios positivos e negativos\n",
    "x = np.random.randn(3,4)\n",
    "print(x)\n",
    "print(\"-------------\")\n",
    "#identificando os positivos e negativos\n",
    "y = (x > 0)\n",
    "print(y)\n",
    "print(\"-------------\")\n",
    "#usando função where para criar matriz com valores 1 e -1\n",
    "z = np.where(y>0, 1, -1)\n",
    "print(z)"
   ]
  },
  {
   "cell_type": "code",
   "execution_count": null,
   "metadata": {},
   "outputs": [],
   "source": []
  }
 ],
 "metadata": {
  "kernelspec": {
   "display_name": "Python 3",
   "language": "python",
   "name": "python3"
  },
  "language_info": {
   "codemirror_mode": {
    "name": "ipython",
    "version": 3
   },
   "file_extension": ".py",
   "mimetype": "text/x-python",
   "name": "python",
   "nbconvert_exporter": "python",
   "pygments_lexer": "ipython3",
   "version": "3.7.3"
  }
 },
 "nbformat": 4,
 "nbformat_minor": 2
}
