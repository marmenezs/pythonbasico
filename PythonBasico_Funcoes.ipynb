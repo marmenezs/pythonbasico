{
 "cells": [
  {
   "cell_type": "code",
   "execution_count": 1,
   "metadata": {},
   "outputs": [],
   "source": [
    "#Funções"
   ]
  },
  {
   "cell_type": "code",
   "execution_count": 3,
   "metadata": {},
   "outputs": [
    {
     "name": "stdout",
     "output_type": "stream",
     "text": [
      "Esta é uma função.\n",
      "-------------\n",
      "Esta é outra função.\n"
     ]
    }
   ],
   "source": [
    "#criando uma função\n",
    "def imprimir():\n",
    "    print(\"Esta é uma função.\")\n",
    "imprimir()\n",
    "print(\"-------------\")\n",
    "def imprimir2(n):\n",
    "    print(n)\n",
    "imprimir2(\"Esta é outra função.\")"
   ]
  },
  {
   "cell_type": "code",
   "execution_count": 5,
   "metadata": {},
   "outputs": [
    {
     "data": {
      "text/plain": [
       "36"
      ]
     },
     "execution_count": 5,
     "metadata": {},
     "output_type": "execute_result"
    }
   ],
   "source": [
    "#criando uma função com retorno\n",
    "def potencia(n):\n",
    "    return n*n\n",
    "potencia(6)"
   ]
  },
  {
   "cell_type": "code",
   "execution_count": 17,
   "metadata": {},
   "outputs": [
    {
     "name": "stdout",
     "output_type": "stream",
     "text": [
      "200\n",
      "-------------\n",
      "600\n",
      "1\n",
      "681\n",
      "-------------\n",
      "2\n"
     ]
    }
   ],
   "source": [
    "#usando funções diversas\n",
    "#módulo\n",
    "print(abs(-200))\n",
    "print(\"-------------\")\n",
    "lst = [1,30,50,600]\n",
    "#maior valor\n",
    "print(max(lst))\n",
    "#menor valor\n",
    "print(min(lst))\n",
    "#soma\n",
    "print(sum(lst))\n",
    "print(\"-------------\")\n",
    "#arredondamento\n",
    "print(round(2.456778))"
   ]
  },
  {
   "cell_type": "code",
   "execution_count": 26,
   "metadata": {},
   "outputs": [
    {
     "name": "stdout",
     "output_type": "stream",
     "text": [
      "146.2\n",
      "50\n",
      "50\n",
      "287.2053562638877\n",
      "82486.91666666667\n"
     ]
    }
   ],
   "source": [
    "#usando funções estatísticas\n",
    "from statistics import *\n",
    "lst1 = [1,30,50,50,600]\n",
    "#média\n",
    "print(mean(lst1))\n",
    "#mediana\n",
    "print(median(lst1))\n",
    "#moda\n",
    "print(mode(lst1))\n",
    "#desvio padrão\n",
    "print(stdev(lst))\n",
    "#variância\n",
    "print(variance(lst))"
   ]
  },
  {
   "cell_type": "code",
   "execution_count": null,
   "metadata": {},
   "outputs": [],
   "source": []
  }
 ],
 "metadata": {
  "kernelspec": {
   "display_name": "Python 3",
   "language": "python",
   "name": "python3"
  },
  "language_info": {
   "codemirror_mode": {
    "name": "ipython",
    "version": 3
   },
   "file_extension": ".py",
   "mimetype": "text/x-python",
   "name": "python",
   "nbconvert_exporter": "python",
   "pygments_lexer": "ipython3",
   "version": "3.7.3"
  }
 },
 "nbformat": 4,
 "nbformat_minor": 2
}
