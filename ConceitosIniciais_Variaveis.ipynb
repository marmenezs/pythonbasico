{
 "cells": [
  {
   "cell_type": "code",
   "execution_count": 6,
   "metadata": {},
   "outputs": [],
   "source": [
    "#variaveis e objetos"
   ]
  },
  {
   "cell_type": "code",
   "execution_count": 5,
   "metadata": {},
   "outputs": [
    {
     "name": "stdout",
     "output_type": "stream",
     "text": [
      "1\n",
      "3.56\n",
      "python\n",
      "True\n"
     ]
    }
   ],
   "source": [
    "#criando variavel do tipo inteiro\n",
    "x = 1\n",
    "print(x)\n",
    "#criando variavel do tipo float\n",
    "y = 3.56\n",
    "print(y)\n",
    "#criando uma variavel do tipo string\n",
    "z = \"python\"\n",
    "print(z)\n",
    "#criando uma variavel do tipo logica\n",
    "a = True\n",
    "b = False\n",
    "print(a)"
   ]
  },
  {
   "cell_type": "code",
   "execution_count": 7,
   "metadata": {},
   "outputs": [
    {
     "name": "stdout",
     "output_type": "stream",
     "text": [
      "75.92\n"
     ]
    }
   ],
   "source": [
    "#fazendo calculo simples\n",
    "x = 35\n",
    "y = 69\n",
    "z = 73\n",
    "w = (x+y)*z/100\n",
    "print(w)"
   ]
  },
  {
   "cell_type": "code",
   "execution_count": 10,
   "metadata": {},
   "outputs": [
    {
     "name": "stdout",
     "output_type": "stream",
     "text": [
      "Este texto será impresso na tela\n",
      "10\n",
      "Os valores de x e y são, respectivamente: 10 e 40\n"
     ]
    }
   ],
   "source": [
    "#imprimindo texto na tela\n",
    "x = 10\n",
    "y = 40\n",
    "print(\"Este texto será impresso na tela\")\n",
    "print(x)\n",
    "print(\"Os valores de x e y são, respectivamente:\", x, \"e\", y)"
   ]
  },
  {
   "cell_type": "code",
   "execution_count": 12,
   "metadata": {},
   "outputs": [
    {
     "name": "stdout",
     "output_type": "stream",
     "text": [
      "<class 'bool'>\n",
      "<class 'int'>\n",
      "<class 'float'>\n",
      "<class 'str'>\n"
     ]
    }
   ],
   "source": [
    "#verificando o tipo das variaveis\n",
    "w=True\n",
    "x=10\n",
    "y=3.7\n",
    "z=\"olá\"\n",
    "print(type(w))\n",
    "print(type(x))\n",
    "print(type(y))\n",
    "print(type(z))"
   ]
  },
  {
   "cell_type": "code",
   "execution_count": 15,
   "metadata": {},
   "outputs": [
    {
     "name": "stdout",
     "output_type": "stream",
     "text": [
      "Informe o seu nome: \n"
     ]
    },
    {
     "name": "stdin",
     "output_type": "stream",
     "text": [
      " Marcia\n"
     ]
    },
    {
     "name": "stdout",
     "output_type": "stream",
     "text": [
      "<class 'str'>\n"
     ]
    }
   ],
   "source": [
    "#inserindo uma entrada de dados\n",
    "print(\"Informe o seu nome: \")\n",
    "i = input()\n",
    "print(type(i))\n",
    "#imprime variaveis do tipo string"
   ]
  },
  {
   "cell_type": "code",
   "execution_count": 16,
   "metadata": {},
   "outputs": [
    {
     "name": "stdout",
     "output_type": "stream",
     "text": [
      "Informe o valor: \n"
     ]
    },
    {
     "name": "stdin",
     "output_type": "stream",
     "text": [
      " 3\n",
      "Informe o valor:  3\n"
     ]
    }
   ],
   "source": [
    "#inserindo entrada com mensagens separadas e juntas\n",
    "#opcao 1\n",
    "print(\"Informe o valor: \")\n",
    "i=input()\n",
    "#opcao 2\n",
    "n=input(\"Informe o valor: \")"
   ]
  },
  {
   "cell_type": "code",
   "execution_count": 20,
   "metadata": {},
   "outputs": [
    {
     "name": "stdin",
     "output_type": "stream",
     "text": [
      "Informe o valor:  3\n"
     ]
    },
    {
     "name": "stdout",
     "output_type": "stream",
     "text": [
      "<class 'int'>\n"
     ]
    }
   ],
   "source": [
    "#convertendo valores para inteiro\n",
    "var=input(\"Informe o valor: \")\n",
    "#print(type(var))\n",
    "var=int(var)\n",
    "print(type(var))\n",
    "#converter para float segue o mesmo raciocinio"
   ]
  },
  {
   "cell_type": "code",
   "execution_count": null,
   "metadata": {},
   "outputs": [],
   "source": []
  }
 ],
 "metadata": {
  "kernelspec": {
   "display_name": "Python 3",
   "language": "python",
   "name": "python3"
  },
  "language_info": {
   "codemirror_mode": {
    "name": "ipython",
    "version": 3
   },
   "file_extension": ".py",
   "mimetype": "text/x-python",
   "name": "python",
   "nbconvert_exporter": "python",
   "pygments_lexer": "ipython3",
   "version": "3.7.3"
  }
 },
 "nbformat": 4,
 "nbformat_minor": 2
}
