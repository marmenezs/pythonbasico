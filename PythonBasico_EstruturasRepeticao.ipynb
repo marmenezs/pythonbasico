{
 "cells": [
  {
   "cell_type": "code",
   "execution_count": 1,
   "metadata": {},
   "outputs": [],
   "source": [
    "#Estruturas de decisão"
   ]
  },
  {
   "cell_type": "code",
   "execution_count": 8,
   "metadata": {},
   "outputs": [
    {
     "name": "stdout",
     "output_type": "stream",
     "text": [
      "Digite a sua nota: \n"
     ]
    },
    {
     "name": "stdin",
     "output_type": "stream",
     "text": [
      " 6.9\n"
     ]
    },
    {
     "name": "stdout",
     "output_type": "stream",
     "text": [
      "Você foi reprovado\n"
     ]
    }
   ],
   "source": [
    "#estrutura if/else para informar se aluno foi aprovado ou reprovado\n",
    "print(\"Digite a sua nota: \")\n",
    "n=input()\n",
    "n=float(n)\n",
    "if n >= 7:\n",
    "    print(\"Parabéns, você foi aprovado!\")\n",
    "else:\n",
    "    print(\"Você foi reprovado\")"
   ]
  },
  {
   "cell_type": "code",
   "execution_count": 11,
   "metadata": {},
   "outputs": [
    {
     "name": "stdout",
     "output_type": "stream",
     "text": [
      "Digite a sua nota: \n"
     ]
    },
    {
     "name": "stdin",
     "output_type": "stream",
     "text": [
      " 7\n"
     ]
    },
    {
     "name": "stdout",
     "output_type": "stream",
     "text": [
      "Parabéns, você foi aprovado!\n"
     ]
    }
   ],
   "source": [
    "#estrutura if/elif/else para informar se aluno está aprovado, em recuperação ou reprovado\n",
    "print(\"Digite a sua nota: \")\n",
    "n=input()\n",
    "n=float(n)\n",
    "if n >= 7:\n",
    "    print(\"Parabéns, você foi aprovado!\")\n",
    "elif n>=5 and n<7:\n",
    "    print(\"Você está em recuperação.\")\n",
    "else:\n",
    "    print(\"Você foi reprovado.\")"
   ]
  },
  {
   "cell_type": "code",
   "execution_count": null,
   "metadata": {},
   "outputs": [],
   "source": []
  }
 ],
 "metadata": {
  "kernelspec": {
   "display_name": "Python 3",
   "language": "python",
   "name": "python3"
  },
  "language_info": {
   "codemirror_mode": {
    "name": "ipython",
    "version": 3
   },
   "file_extension": ".py",
   "mimetype": "text/x-python",
   "name": "python",
   "nbconvert_exporter": "python",
   "pygments_lexer": "ipython3",
   "version": "3.7.3"
  }
 },
 "nbformat": 4,
 "nbformat_minor": 2
}
